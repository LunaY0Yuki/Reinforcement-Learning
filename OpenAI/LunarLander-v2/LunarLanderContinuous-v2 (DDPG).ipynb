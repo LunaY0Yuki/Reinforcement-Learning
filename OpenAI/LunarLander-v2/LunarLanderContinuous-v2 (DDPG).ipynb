{
 "cells": [
  {
   "cell_type": "markdown",
   "metadata": {},
   "source": [
    "# LunarLanderContinuous-v2\n",
    "---\n",
    "In this notebook, you will implement a DDPG agent with OpenAI Gym's LunarLanderContinuous-v2 environment.\n",
    "\n",
    "### 1. Import the Necessary Packages"
   ]
  },
  {
   "cell_type": "code",
   "execution_count": 1,
   "metadata": {},
   "outputs": [],
   "source": [
    "import gym.spaces\n",
    "import random\n",
    "import torch\n",
    "import numpy as np\n",
    "from collections import deque\n",
    "import matplotlib.pyplot as plt\n",
    "%matplotlib inline\n",
    "\n",
    "from ddpg_agent import Agent"
   ]
  },
  {
   "cell_type": "markdown",
   "metadata": {},
   "source": [
    "### 2. Instantiate the Environment and Agent\n",
    "\n",
    "Initialize the environment in the code cell below."
   ]
  },
  {
   "cell_type": "code",
   "execution_count": 2,
   "metadata": {},
   "outputs": [
    {
     "name": "stdout",
     "output_type": "stream",
     "text": [
      "\u001b[33mWARN: gym.spaces.Box autodetected dtype as <class 'numpy.float32'>. Please provide explicit dtype.\u001b[0m\n",
      "\u001b[33mWARN: gym.spaces.Box autodetected dtype as <class 'numpy.float32'>. Please provide explicit dtype.\u001b[0m\n",
      "Size of each action: 2\n",
      "Size of state: 8\n"
     ]
    }
   ],
   "source": [
    "env = gym.make('LunarLanderContinuous-v2')\n",
    "env.seed(0)\n",
    "\n",
    "# size of each action\n",
    "action_size = env.action_space.shape[0]\n",
    "print('Size of each action:', action_size)\n",
    "\n",
    "# examine the state space \n",
    "states = env.observation_space.shape\n",
    "state_size = states[0]\n",
    "print('Size of state:', state_size)"
   ]
  },
  {
   "cell_type": "markdown",
   "metadata": {},
   "source": [
    "### 3. Train the Agent with DDPG\n",
    "\n",
    "Run the code cell below to train the agent from scratch.  You are welcome to amend the supplied values of the parameters in the function, to try to see if you can get better performance!"
   ]
  },
  {
   "cell_type": "code",
   "execution_count": 3,
   "metadata": {},
   "outputs": [],
   "source": [
    "from collections import deque\n",
    "from itertools import count\n",
    "import time\n",
    "import torch\n",
    "from ddpg_agent import Agent\n",
    "import matplotlib.pyplot as plt\n",
    "%matplotlib inline\n",
    "\n",
    "agent = Agent(state_size=state_size, action_size=action_size, random_seed=0)"
   ]
  },
  {
   "cell_type": "code",
   "execution_count": 4,
   "metadata": {},
   "outputs": [
    {
     "name": "stdout",
     "output_type": "stream",
     "text": [
      "Episode 50, Average Score: -385.87, Max: -144.24, Min: -1252.28, Time: 0.31\n",
      "Episode 100, Average Score: -435.20, Max: -144.24, Min: -1252.28, Time: 0.35\n",
      "Episode 150, Average Score: -414.76, Max: -144.24, Min: -1252.28, Time: 0.36\n",
      "Episode 200, Average Score: -371.16, Max: -144.24, Min: -1252.28, Time: 0.63\n",
      "Episode 250, Average Score: -247.23, Max: -144.24, Min: -1252.28, Time: 1.43\n",
      "Episode 300, Average Score: -222.53, Max: -114.86, Min: -1252.28, Time: 0.64\n",
      "Episode 350, Average Score: -211.23, Max: -54.11, Min: -1252.28, Time: 1.31\n",
      "Episode 400, Average Score: -222.35, Max: -54.11, Min: -1252.28, Time: 0.66\n",
      "Episode 450, Average Score: -199.97, Max: -54.11, Min: -1252.28, Time: 3.32\n",
      "Episode 500, Average Score: -186.06, Max: -54.11, Min: -1252.28, Time: 6.03\n",
      "Episode 550, Average Score: -158.31, Max: -48.81, Min: -1252.28, Time: 5.11\n",
      "Episode 600, Average Score: -205.82, Max: -48.81, Min: -1252.28, Time: 8.69\n",
      "Episode 650, Average Score: -204.77, Max: -48.81, Min: -1252.28, Time: 2.50\n",
      "Episode 700, Average Score: -187.33, Max: -48.81, Min: -1252.28, Time: 1.52\n",
      "Episode 750, Average Score: -172.78, Max: -48.81, Min: -1252.28, Time: 1.26\n",
      "Episode 800, Average Score: -180.35, Max: -48.81, Min: -1252.28, Time: 1.22\n",
      "Episode 850, Average Score: -178.91, Max: -48.81, Min: -1252.28, Time: 1.48\n",
      "Episode 900, Average Score: -178.60, Max: -48.81, Min: -1252.28, Time: 0.79\n",
      "Episode 950, Average Score: -186.79, Max: -48.81, Min: -1252.28, Time: 1.01\n",
      "Episode 1000, Average Score: -184.36, Max: -46.81, Min: -1252.28, Time: 2.23\n",
      "Episode 1050, Average Score: -188.63, Max: -46.81, Min: -1252.28, Time: 4.69\n",
      "Episode 1100, Average Score: -194.31, Max: -46.81, Min: -1252.28, Time: 3.94\n",
      "Episode 1150, Average Score: -178.63, Max: -46.81, Min: -1252.28, Time: 3.11\n",
      "Episode 1200, Average Score: -174.86, Max: -46.81, Min: -1252.28, Time: 1.40\n",
      "Episode 1250, Average Score: -169.43, Max: -46.81, Min: -1252.28, Time: 1.69\n",
      "Episode 1300, Average Score: -158.11, Max: -46.81, Min: -1252.28, Time: 1.18\n",
      "Episode 1350, Average Score: -173.40, Max: -46.81, Min: -1252.28, Time: 1.99\n",
      "Episode 1400, Average Score: -199.43, Max: -46.81, Min: -1252.28, Time: 4.98\n",
      "Episode 1450, Average Score: -190.23, Max: -46.81, Min: -1252.28, Time: 9.81\n",
      "Episode 1500, Average Score: -173.64, Max: -46.81, Min: -1252.28, Time: 3.44\n",
      "Episode 1550, Average Score: -201.56, Max: -46.81, Min: -1252.28, Time: 4.11\n",
      "Episode 1600, Average Score: -203.27, Max: -46.81, Min: -1252.28, Time: 6.17\n",
      "Episode 1650, Average Score: -190.78, Max: -46.81, Min: -1252.28, Time: 7.12\n",
      "Episode 1700, Average Score: -201.19, Max: -46.81, Min: -1252.28, Time: 4.54\n",
      "Episode 1750, Average Score: -192.17, Max: -46.81, Min: -1252.28, Time: 4.66\n",
      "Episode 1800, Average Score: -160.27, Max: -46.81, Min: -1252.28, Time: 8.90\n",
      "Episode 1850, Average Score: -161.19, Max: -46.81, Min: -1252.28, Time: 10.82\n",
      "Episode 1900, Average Score: -183.46, Max: -46.81, Min: -1252.28, Time: 3.19\n",
      "Episode 1950, Average Score: -191.34, Max: -46.81, Min: -1252.28, Time: 10.34\n",
      "Episode 2000, Average Score: -160.72, Max: -46.81, Min: -1252.28, Time: 9.21\n",
      "Episode 2050, Average Score: -138.18, Max: -46.81, Min: -1252.28, Time: 9.38\n",
      "Episode 2100, Average Score: -142.07, Max: -46.81, Min: -1252.28, Time: 7.53\n",
      "Episode 2150, Average Score: -146.87, Max: -46.81, Min: -1252.28, Time: 6.97\n",
      "Episode 2200, Average Score: -152.46, Max: -46.81, Min: -1252.28, Time: 9.47\n",
      "Episode 2250, Average Score: -101.61, Max: -36.24, Min: -1252.28, Time: 8.27\n",
      "Episode 2300, Average Score: -159.86, Max: -36.24, Min: -1252.28, Time: 1.20\n",
      "Episode 2350, Average Score: -148.15, Max: 63.24, Min: -1252.28, Time: 0.50\n",
      "Episode 2400, Average Score: -155.18, Max: 63.24, Min: -1252.28, Time: 8.25\n",
      "Episode 2450, Average Score: -94.56, Max: 63.24, Min: -1252.28, Time: 9.80\n",
      "Episode 2500, Average Score: -66.64, Max: 207.55, Min: -1252.28, Time: 7.61\n",
      "Episode 2550, Average Score: -1.18, Max: 220.09, Min: -1252.28, Time: 6.25\n",
      "Episode 2600, Average Score: 63.39, Max: 227.30, Min: -1252.28, Time: 2.31\n",
      "Episode 2650, Average Score: 21.95, Max: 228.78, Min: -1252.28, Time: 1.36\n",
      "Episode 2700, Average Score: 32.07, Max: 243.42, Min: -1252.28, Time: 1.61\n",
      "Episode 2750, Average Score: 16.03, Max: 243.42, Min: -1252.28, Time: 1.99\n",
      "Episode 2800, Average Score: 96.05, Max: 243.75, Min: -1252.28, Time: 1.69\n",
      "Episode 2850, Average Score: 151.75, Max: 243.75, Min: -1252.28, Time: 4.48\n",
      "Episode 2900, Average Score: 148.78, Max: 246.13, Min: -1252.28, Time: 2.86\n",
      "Episode 2950, Average Score: 136.20, Max: 254.75, Min: -1252.28, Time: 1.89\n",
      "Episode 3000, Average Score: 113.08, Max: 254.75, Min: -1252.28, Time: 5.72\n",
      "Episode 3050, Average Score: 29.03, Max: 254.75, Min: -1252.28, Time: 8.08\n",
      "Episode 3100, Average Score: 27.13, Max: 254.75, Min: -1252.28, Time: 9.20\n",
      "Episode 3150, Average Score: 8.72, Max: 254.75, Min: -1252.28, Time: 8.54\n",
      "Episode 3200, Average Score: 104.75, Max: 254.75, Min: -1252.28, Time: 9.03\n",
      "Episode 3250, Average Score: 108.89, Max: 256.97, Min: -1252.28, Time: 3.49\n",
      "Episode 3300, Average Score: 134.12, Max: 257.97, Min: -1252.28, Time: 2.63\n",
      "Episode 3350, Average Score: 148.54, Max: 259.55, Min: -1252.28, Time: 4.11\n",
      "Episode 3400, Average Score: 119.13, Max: 259.55, Min: -1252.28, Time: 8.84\n",
      "Episode 3450, Average Score: 122.30, Max: 259.55, Min: -1252.28, Time: 2.19\n",
      "Episode 3500, Average Score: 154.47, Max: 259.55, Min: -1252.28, Time: 1.52\n",
      "Episode 3550, Average Score: 110.91, Max: 259.55, Min: -1252.28, Time: 5.07\n",
      "Episode 3600, Average Score: 166.44, Max: 259.55, Min: -1252.28, Time: 3.92\n",
      "Episode 3650, Average Score: 160.45, Max: 259.55, Min: -1252.28, Time: 3.19\n",
      "Episode 3700, Average Score: 194.97, Max: 259.55, Min: -1252.28, Time: 2.38\n",
      "Episode 3750, Average Score: 193.98, Max: 260.40, Min: -1252.28, Time: 1.58\n",
      "\n",
      "Environment solved in 3751 episodes!\tAverage Score: 203.37\n"
     ]
    },
    {
     "data": {
      "image/png": "[encoded data removed]",
      "text/plain": [
       "<Figure size 432x288 with 1 Axes>"
      ]
     },
     "metadata": {},
     "output_type": "display_data"
    }
   ],
   "source": [
    "def ddpg(n_episodes=100000, max_t=50000, print_every=50):\n",
    "    scores_deque = deque(maxlen=print_every)\n",
    "    scores = []\n",
    "    for i_episode in range(1, n_episodes+1):\n",
    "        state = env.reset()\n",
    "        agent.reset()\n",
    "        score = 0\n",
    "        timestep = time.time()\n",
    "        for t in range(max_t):\n",
    "            action = agent.act(state)\n",
    "            action = np.clip(action, -1, 1)\n",
    "            next_state, reward, done, _ = env.step(action)\n",
    "            agent.step(state, action, reward, next_state, done, t)\n",
    "            state = next_state\n",
    "            score += reward\n",
    "            if done:\n",
    "                break \n",
    "                \n",
    "        scores_deque.append(score)\n",
    "        scores.append(score)\n",
    "        score_average = np.mean(scores_deque)\n",
    "        \n",
    "        if i_episode % print_every == 0:\n",
    "            print('\\rEpisode {}, Average Score: {:.2f}, Max: {:.2f}, Min: {:.2f}, Time: {:.2f}'\\\n",
    "                  .format(i_episode, score_average, np.max(scores), np.min(scores), time.time() - timestep), end=\"\\n\")\n",
    "                    \n",
    "        if np.mean(scores_deque) >= 200.0:            \n",
    "            torch.save(agent.actor_local.state_dict(), 'checkpoint_actor.pth')\n",
    "            torch.save(agent.critic_local.state_dict(), 'checkpoint_critic.pth')\n",
    "            print('\\nEnvironment solved in {:d} episodes!\\tAverage Score: {:.2f}'.format(i_episode, score_average))            \n",
    "            break            \n",
    "            \n",
    "            \n",
    "    return scores\n",
    "\n",
    "scores = ddpg()\n",
    "\n",
    "fig = plt.figure()\n",
    "ax = fig.add_subplot(111)\n",
    "plt.plot(np.arange(1, len(scores)+1), scores)\n",
    "plt.ylabel('Score')\n",
    "plt.xlabel('Episode #')\n",
    "plt.show()"
   ]
  },
  {
   "cell_type": "markdown",
   "metadata": {},
   "source": [
    "### 4. Watch a Smart Agent!\n",
    "\n",
    "In the next code cell, you will load the trained weights from file to watch a smart agent!"
   ]
  },
  {
   "cell_type": "code",
   "execution_count": 7,
   "metadata": {},
   "outputs": [],
   "source": [
    "agent.actor_local.load_state_dict(torch.load('checkpoint_actor.pth'))\n",
    "agent.critic_local.load_state_dict(torch.load('checkpoint_critic.pth'))\n",
    "\n",
    "for _ in range(5):\n",
    "    state = env.reset()\n",
    "    for t in range(1200):\n",
    "        action = agent.act(state, add_noise=False)\n",
    "        env.render()\n",
    "        state, reward, done, _ = env.step(action)\n",
    "        if done:\n",
    "            break \n",
    "\n",
    "env.close()"
   ]
  },
  {
   "cell_type": "code",
   "execution_count": null,
   "metadata": {},
   "outputs": [],
   "source": []
  }
 ],
 "metadata": {
  "kernelspec": {
   "display_name": "Python 3",
   "language": "python",
   "name": "python3"
  },
  "language_info": {
   "codemirror_mode": {
    "name": "ipython",
    "version": 3
   },
   "file_extension": ".py",
   "mimetype": "text/x-python",
   "name": "python",
   "nbconvert_exporter": "python",
   "pygments_lexer": "ipython3",
   "version": "3.6.6"
  }
 },
 "nbformat": 4,
 "nbformat_minor": 2
}
